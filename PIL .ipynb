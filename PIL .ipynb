{
 "cells": [
  {
   "cell_type": "code",
   "execution_count": 2,
   "id": "b2624816",
   "metadata": {},
   "outputs": [],
   "source": [
    "from PIL import Image \n",
    "def main():\n",
    "    try:\n",
    "        img = Image.open(\"wp4249746.jpg\")\n",
    "        img = img.rotate(180)\n",
    "        img.save(\"wp4249746.jpg\")\n",
    "    except ioError:\n",
    "         pass\n",
    "    \n",
    "if __name__==\"__main__\":\n",
    "    main() \n",
    "\n",
    "     "
   ]
  },
  {
   "cell_type": "code",
   "execution_count": null,
   "id": "59bf8747",
   "metadata": {},
   "outputs": [],
   "source": [
    "\n",
    "from PIL import Image\n",
    "def main()\n",
    "  try:\n",
    "          img = Image.open(\"wp4249746.jpg\")\n",
    "                   width, hight =img.size\n",
    "                   area = (0,0,width/2,hight/2)\n",
    "                    img = img.crop(area)\n",
    "                    img.save(\"wp42497466.jpg\")\n",
    "    except IOError:\n",
    "         pass\n",
    "if __name__==\"__main__\":\n",
    "     main()\n",
    " \n",
    "       \n",
    "   "
   ]
  }
 ],
 "metadata": {
  "kernelspec": {
   "display_name": "Python 3 (ipykernel)",
   "language": "python",
   "name": "python3"
  },
  "language_info": {
   "codemirror_mode": {
    "name": "ipython",
    "version": 3
   },
   "file_extension": ".py",
   "mimetype": "text/x-python",
   "name": "python",
   "nbconvert_exporter": "python",
   "pygments_lexer": "ipython3",
   "version": "3.9.12"
  }
 },
 "nbformat": 4,
 "nbformat_minor": 5
}
