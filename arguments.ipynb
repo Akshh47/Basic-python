{
 "cells": [
  {
   "cell_type": "code",
   "execution_count": 1,
   "id": "8a3b1247",
   "metadata": {},
   "outputs": [
    {
     "name": "stdout",
     "output_type": "stream",
     "text": [
      "Hello\n",
      "how are you\n"
     ]
    }
   ],
   "source": [
    "def greet():\n",
    "    print(\"Hello\")\n",
    "    print(\"how are you\")\n",
    "    \n",
    "greet()"
   ]
  },
  {
   "cell_type": "code",
   "execution_count": 2,
   "id": "8bb84681",
   "metadata": {},
   "outputs": [
    {
     "name": "stdout",
     "output_type": "stream",
     "text": [
      "b = 20 is greater then a\n"
     ]
    }
   ],
   "source": [
    "def max():\n",
    "    a = 10\n",
    "    b = 20\n",
    "    if a>b:\n",
    "        print('a =',a,'is greater then b')\n",
    "    else:\n",
    "        print('b =',b,'is greater then a')\n",
    "        \n",
    "max()"
   ]
  },
  {
   "cell_type": "code",
   "execution_count": 3,
   "id": "5c4d3a28",
   "metadata": {
    "scrolled": true
   },
   "outputs": [
    {
     "name": "stdout",
     "output_type": "stream",
     "text": [
      "a = 2  is less then b\n"
     ]
    }
   ],
   "source": [
    "def min(a,b):\n",
    "    if a<b:\n",
    "        print('a =',a,' is less then b')\n",
    "    else:\n",
    "        print('b =',b,' is less then a')\n",
    "min(2,3)"
   ]
  },
  {
   "cell_type": "code",
   "execution_count": 4,
   "id": "f34d78c7",
   "metadata": {},
   "outputs": [
    {
     "name": "stdout",
     "output_type": "stream",
     "text": [
      "enter the value of a23\n",
      "enter the value of b37\n",
      "a = 23  is less then b\n"
     ]
    }
   ],
   "source": [
    "def min(a,b):\n",
    "    if a<b:\n",
    "        print('a =',a,' is less then b')\n",
    "    else:\n",
    "        print('b =',b,' is less then a')\n",
    "a = eval(input(\"enter the value of a\"))\n",
    "b = eval(input(\"enter the value of b\"))\n",
    "min(a,b)"
   ]
  },
  {
   "cell_type": "code",
   "execution_count": 5,
   "id": "0eb970d8",
   "metadata": {},
   "outputs": [
    {
     "name": "stdout",
     "output_type": "stream",
     "text": [
      "the minimum from given value will be  2\n"
     ]
    }
   ],
   "source": [
    "def min(a,b):\n",
    "    if a<b:\n",
    "        return a\n",
    "    else:\n",
    "        return b\n",
    "result = min(3,2)\n",
    "print(\"the minimum from given value will be \", result)"
   ]
  },
  {
   "cell_type": "code",
   "execution_count": null,
   "id": "c2e4bbe1",
   "metadata": {},
   "outputs": [],
   "source": []
  },
  {
   "cell_type": "code",
   "execution_count": 7,
   "id": "565db36e",
   "metadata": {},
   "outputs": [
    {
     "name": "stdout",
     "output_type": "stream",
     "text": [
      "the length of your name is 13\n"
     ]
    }
   ],
   "source": [
    "def namelenght(s1):\n",
    "    l = len(s1)\n",
    "    return l\n",
    "ans = namelenght('dhyan panchal')\n",
    "print('the length of your name is', ans)"
   ]
  },
  {
   "cell_type": "code",
   "execution_count": 2,
   "id": "e85958c5",
   "metadata": {},
   "outputs": [
    {
     "name": "stdout",
     "output_type": "stream",
     "text": [
      "the youngest child is tobiass\n"
     ]
    }
   ],
   "source": [
    "def my_function(*kids):\n",
    "    print(\"the youngest child is \" + kids[1])\n",
    "my_function(\"emil\",\"tobiass\",\"linus\")"
   ]
  },
  {
   "cell_type": "code",
   "execution_count": 3,
   "id": "2d0610cb",
   "metadata": {},
   "outputs": [
    {
     "name": "stdout",
     "output_type": "stream",
     "text": [
      "i am from swden\n",
      "i am from india\n",
      "i am from norway\n",
      "i am from brazil\n"
     ]
    }
   ],
   "source": [
    "def my_function(country = \"norway\"):\n",
    "    print(\"i am from \" + country)\n",
    "my_function(\"swden\")\n",
    "my_function(\"india\")\n",
    "my_function()\n",
    "my_function(\"brazil\")"
   ]
  },
  {
   "cell_type": "code",
   "execution_count": 1,
   "id": "0e2075d5",
   "metadata": {},
   "outputs": [
    {
     "name": "stdout",
     "output_type": "stream",
     "text": [
      "axil\n",
      "axil\n",
      "axil\n"
     ]
    }
   ],
   "source": [
    "class  test:\n",
    "    def fun1(self):\n",
    "        print(\"axil\")\n",
    "    def display(self,string):\n",
    "        print(string)\n",
    "    def printmsg(self,name):\n",
    "        return name\n",
    "o1 = test()\n",
    "o1.fun1()\n",
    "o1.display(\"axil\")\n",
    "result = o1.printmsg(\"axil\")\n",
    "print(result)"
   ]
  },
  {
   "cell_type": "code",
   "execution_count": 7,
   "id": "f653aaf2",
   "metadata": {},
   "outputs": [
    {
     "name": "stdout",
     "output_type": "stream",
     "text": [
      "enter the value of a112\n",
      "enter the value of b2334\n",
      "b = 2334  is greter then a\n"
     ]
    }
   ],
   "source": [
    "#max function withour arg and no return\n",
    "def max(a,b):\n",
    "    if a>b:\n",
    "        print('a =',a,' is greter then b')\n",
    "    else:\n",
    "        print('b =',b,' is greter then a')\n",
    "a = eval(input(\"enter the value of a\"))\n",
    "b = eval(input(\"enter the value of b\"))\n",
    "max(a,b)"
   ]
  },
  {
   "cell_type": "code",
   "execution_count": 16,
   "id": "304481e3",
   "metadata": {},
   "outputs": [
    {
     "name": "stdout",
     "output_type": "stream",
     "text": [
      "enter the value of a365\n",
      "a = 365  is odd\n"
     ]
    }
   ],
   "source": [
    "def type():\n",
    "    a = eval(input(\"enter the value of a\"))\n",
    "    if a%2==0:\n",
    "        print('a =',a,' is evan')\n",
    "    else:\n",
    "        print('a =',a,' is odd')\n",
    "type()"
   ]
  },
  {
   "cell_type": "code",
   "execution_count": 17,
   "id": "019c6199",
   "metadata": {},
   "outputs": [
    {
     "name": "stdout",
     "output_type": "stream",
     "text": [
      "enter the value of a2348\n",
      "a = 2348  is leap year\n"
     ]
    }
   ],
   "source": [
    "# leap year no arg no return\n",
    "def type():\n",
    "    a = eval(input(\"enter the value of a\"))\n",
    "    if a%4==0:\n",
    "        print('a =',a,' is leap year')\n",
    "    else:\n",
    "        print('a =',a,' is non leap year')\n",
    "type()"
   ]
  },
  {
   "cell_type": "code",
   "execution_count": 13,
   "id": "cfcd3bb8",
   "metadata": {},
   "outputs": [
    {
     "name": "stdout",
     "output_type": "stream",
     "text": [
      "enter the value of a13\n",
      "a = 13  is odd\n"
     ]
    }
   ],
   "source": [
    "# evan odd with arg but no return\n",
    "def type(a):\n",
    "    if a%2==0:\n",
    "        print('a =',a,' is evan')\n",
    "    else:\n",
    "        print('a =',a,' is odd')\n",
    "a = eval(input(\"enter the value of a\"))\n",
    "type(a)"
   ]
  },
  {
   "cell_type": "code",
   "execution_count": 15,
   "id": "810211e6",
   "metadata": {},
   "outputs": [
    {
     "name": "stdout",
     "output_type": "stream",
     "text": [
      "enter the value of a2022\n",
      "a = 2022  is non leap year\n"
     ]
    }
   ],
   "source": [
    "# leap year with are but no return\n",
    "def type(a):\n",
    "    if a%4==0:\n",
    "        print('a =',a,' is leap year')\n",
    "    else:\n",
    "        print('a =',a,' is non leap year')\n",
    "a = eval(input(\"enter the value of a\"))\n",
    "type(a)"
   ]
  },
  {
   "cell_type": "code",
   "execution_count": 3,
   "id": "88959bd6",
   "metadata": {},
   "outputs": [
    {
     "name": "stdout",
     "output_type": "stream",
     "text": [
      "enter the value of a43\n",
      "a = 43  is non leap year\n"
     ]
    }
   ],
   "source": [
    "class a:\n",
    "    def type(self):\n",
    "        a = eval(input(\"enter the value of a\"))\n",
    "        if a%4==0:\n",
    "            print('a =',a,' is leap year')\n",
    "        else:\n",
    "            print('a =',a,' is non leap year')\n",
    "o1 = a()\n",
    "o1.type()"
   ]
  },
  {
   "cell_type": "code",
   "execution_count": null,
   "id": "8328e1a6",
   "metadata": {},
   "outputs": [],
   "source": [
    "class a:\n",
    "    def type(self,b):\n",
    "        if a%4==0:\n",
    "            print('a =',a,' is leap year')\n",
    "        else:\n",
    "            print('a =',a,' is non leap year')\n",
    "a = eval(input(\"enter the value of a \"))\n",
    "o1.type(b)"
   ]
  },
  {
   "cell_type": "code",
   "execution_count": 2,
   "id": "0eef935a",
   "metadata": {},
   "outputs": [
    {
     "name": "stdout",
     "output_type": "stream",
     "text": [
      "enter the number for table 18\n",
      "18 * 1 = 18\n",
      "18 * 2 = 36\n",
      "18 * 3 = 54\n",
      "18 * 4 = 72\n",
      "18 * 5 = 90\n",
      "18 * 6 = 108\n",
      "18 * 7 = 126\n",
      "18 * 8 = 144\n",
      "18 * 9 = 162\n",
      "18 * 10 = 180\n"
     ]
    }
   ],
   "source": [
    "def table():\n",
    "    i = 1\n",
    "    num = eval(input(\"enter the number for table \"))\n",
    "    while(i<=10):\n",
    "        print(num,'*',i,'=',num*i)\n",
    "        i+=1\n",
    "table()"
   ]
  }
 ],
 "metadata": {
  "kernelspec": {
   "display_name": "Python 3 (ipykernel)",
   "language": "python",
   "name": "python3"
  },
  "language_info": {
   "codemirror_mode": {
    "name": "ipython",
    "version": 3
   },
   "file_extension": ".py",
   "mimetype": "text/x-python",
   "name": "python",
   "nbconvert_exporter": "python",
   "pygments_lexer": "ipython3",
   "version": "3.9.12"
  }
 },
 "nbformat": 4,
 "nbformat_minor": 5
}
