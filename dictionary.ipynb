{
 "cells": [
  {
   "cell_type": "code",
   "execution_count": 29,
   "id": "67977ca3",
   "metadata": {},
   "outputs": [
    {
     "name": "stdout",
     "output_type": "stream",
     "text": [
      "{1: 'geeks', 'name': 'for', 3: 'geeks'}\n",
      "geeks\n",
      "\n",
      " dictionary after deletion  {1: 'geeks', 'its': 'for'}\n",
      "\n",
      " the arbitrary pair returned is : (2, 'geeks')\n"
     ]
    }
   ],
   "source": [
    "# creating dictionary\n",
    "dict = {1:'geeks','name':'for',3:'geeks'}\n",
    "print(dict)\n",
    "print(dict[1])\n",
    "#using popitem() function\n",
    "dict1 = {1:'geeks','its': 'for', 2:'geeks'}\n",
    "pop_ele = dict1.popitem()\n",
    "print('\\n dictionary after deletion ', (dict1))\n",
    "print('\\n the arbitrary pair returned is :', (pop_ele))"
   ]
  },
  {
   "cell_type": "code",
   "execution_count": 30,
   "id": "0edaa1c6",
   "metadata": {},
   "outputs": [
    {
     "name": "stdout",
     "output_type": "stream",
     "text": [
      "{1: 'geeks', 'name': 'for', 3: 'geeks'}\n",
      "\n",
      " Deleting the enntire dictionary :\n",
      "{}\n"
     ]
    }
   ],
   "source": [
    "# Clear() function\n",
    "d1 = {1:'geeks','name':'for',3:'geeks'}\n",
    "print(d1)\n",
    "d1.clear()\n",
    "print('\\n Deleting the enntire dictionary :')\n",
    "print(d1)"
   ]
  },
  {
   "cell_type": "code",
   "execution_count": null,
   "id": "2e5c0434",
   "metadata": {},
   "outputs": [],
   "source": []
  },
  {
   "cell_type": "code",
   "execution_count": null,
   "id": "566b4eff",
   "metadata": {},
   "outputs": [],
   "source": [
    "#create dictionary using dict() function\n",
    "d = dict([('a',100),('b',200)])\n",
    "print(d)\n",
    "print(d['b'])"
   ]
  },
  {
   "cell_type": "code",
   "execution_count": null,
   "id": "576a72bb",
   "metadata": {},
   "outputs": [],
   "source": [
    "d1 = {}\n",
    "print(\"empty dictionary d1: \", d1)\n",
    "#adding element one at a time\n",
    "d1[0] = 'Geeks'\n",
    "d1[2] = 'for'\n",
    "d1[4] = 'Geeks'\n",
    "d1[3] = 2\n",
    "print(\"dictionary after adding elements: \", d1)\n",
    "d1[1] = 20\n",
    "d1['set_value'] = 2,3,4,5\n",
    "print(d1)\n",
    "print()\n",
    "print(d1.get('set_value'))\n",
    "del d1[1]\n",
    "print(d1)\n",
    "del d1['set_value']\n",
    "print(d1)"
   ]
  },
  {
   "cell_type": "code",
   "execution_count": null,
   "id": "3898213d",
   "metadata": {},
   "outputs": [],
   "source": [
    "thisdict = {'name':'ford','model':'mustang','year':2020}\n",
    "for x,y in thisdict.items():\n",
    "    print(x,y)"
   ]
  },
  {
   "cell_type": "code",
   "execution_count": null,
   "id": "db67fb2a",
   "metadata": {},
   "outputs": [],
   "source": [
    "thisdict = {'name':'ford','model':'mustang','year':2020}\n",
    "thisdict.values()"
   ]
  },
  {
   "cell_type": "code",
   "execution_count": null,
   "id": "e93a3820",
   "metadata": {},
   "outputs": [],
   "source": [
    "thisdict = {'name':'ford','model':'mustang','year':2020}\n",
    "thisdict.keys()"
   ]
  },
  {
   "cell_type": "code",
   "execution_count": null,
   "id": "14266cde",
   "metadata": {},
   "outputs": [],
   "source": [
    "thisdict.items()"
   ]
  },
  {
   "cell_type": "code",
   "execution_count": null,
   "id": "6be708ea",
   "metadata": {},
   "outputs": [],
   "source": [
    "thisdict = {'name':'ford','model':'mustang','year':2020}\n",
    "print(len(thisdict))"
   ]
  },
  {
   "cell_type": "code",
   "execution_count": null,
   "id": "42ed20b3",
   "metadata": {},
   "outputs": [],
   "source": [
    "#nested Dictionary\n",
    "d1 = {1:'geeks', 2:'for', 3:{'a':'welcome', 'b':'to','c':'Geeks'}}\n",
    "print(d1)\n",
    "print(d1[1],d1[2])\n",
    "print(d1[3]['c'])\n",
    "print(d1[3].values())\n",
    "print(d1[3].keys())"
   ]
  }
 ],
 "metadata": {
  "kernelspec": {
   "display_name": "Python 3 (ipykernel)",
   "language": "python",
   "name": "python3"
  },
  "language_info": {
   "codemirror_mode": {
    "name": "ipython",
    "version": 3
   },
   "file_extension": ".py",
   "mimetype": "text/x-python",
   "name": "python",
   "nbconvert_exporter": "python",
   "pygments_lexer": "ipython3",
   "version": "3.9.12"
  }
 },
 "nbformat": 4,
 "nbformat_minor": 5
}
