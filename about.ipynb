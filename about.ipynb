{
 "cells": [
  {
   "cell_type": "code",
   "execution_count": 1,
   "id": "2e863eff",
   "metadata": {},
   "outputs": [
    {
     "name": "stdout",
     "output_type": "stream",
     "text": [
      "addition is 30\n",
      "subtraction is -10\n",
      "divition is 0.5\n",
      "reminder is 10\n",
      "power is 100000000000000000000\n",
      "multipliction is 200\n"
     ]
    }
   ],
   "source": [
    "#arithmetic operators\n",
    "\n",
    "a=10\n",
    "b=20\n",
    "\n",
    "\n",
    "print(\"addition is\",a+b)\n",
    "print(\"subtraction is\",a-b)\n",
    "print(\"divition is\",a/b)\n",
    "print(\"reminder is\",a%b)\n",
    "print(\"power is\",a**b)\n",
    "print(\"multipliction is\",a*b)"
   ]
  },
  {
   "cell_type": "code",
   "execution_count": 2,
   "id": "313aca73",
   "metadata": {},
   "outputs": [
    {
     "name": "stdout",
     "output_type": "stream",
     "text": [
      "area 785.0\n"
     ]
    }
   ],
   "source": [
    "r=5\n",
    "h=10\n",
    "a=3.14*r*r*h\n",
    "\n",
    "print(\"area\",a)"
   ]
  },
  {
   "cell_type": "code",
   "execution_count": 3,
   "id": "34d27e67",
   "metadata": {},
   "outputs": [
    {
     "name": "stdout",
     "output_type": "stream",
     "text": [
      "area 12.5\n"
     ]
    }
   ],
   "source": [
    "l=5\n",
    "b=5\n",
    "a=(l*b)/2\n",
    "\n",
    "print(\"area\",a)"
   ]
  },
  {
   "cell_type": "code",
   "execution_count": 4,
   "id": "6639838c",
   "metadata": {},
   "outputs": [
    {
     "name": "stdout",
     "output_type": "stream",
     "text": [
      "my name is axil rana\n",
      "i am student\n",
      "mt father name is chandreshbhai\n",
      "my mother name is parulben\n",
      "i am finish my diploma in 2022\n"
     ]
    }
   ],
   "source": [
    "#my self\n",
    "\n",
    "print(\"my name is axil rana\")\n",
    "print(\"i am student\")\n",
    "print(\"mt father name is chandreshbhai\")\n",
    "print(\"my mother name is parulben\")\n",
    "print(\"i am finish my diploma in 2022\")"
   ]
  },
  {
   "cell_type": "code",
   "execution_count": 5,
   "id": "d8e926ae",
   "metadata": {},
   "outputs": [
    {
     "name": "stdout",
     "output_type": "stream",
     "text": [
      "india is a country in south asia\n",
      " Its capital is New Delhi\n",
      " It is the seventh-largest country by area\n",
      "and it pm of india is narendra modi\n"
     ]
    }
   ],
   "source": [
    "#about india\n",
    "print(\"india is a country in south asia\")\n",
    "print(\" Its capital is New Delhi\")\n",
    "print(\" It is the seventh-largest country by area\")\n",
    "print(\"and it pm of india is narendra modi\")"
   ]
  },
  {
   "cell_type": "code",
   "execution_count": 9,
   "id": "8461455c",
   "metadata": {},
   "outputs": [
    {
     "name": "stdout",
     "output_type": "stream",
     "text": [
      "enter a22\n",
      "enter b44\n",
      "enter c55\n",
      "55 is maximum\n"
     ]
    }
   ],
   "source": [
    "#LOGICAL opretor\n",
    "\n",
    "a=eval(input(\"enter a\"))\n",
    "b=eval(input(\"enter b\"))\n",
    "c=eval(input(\"enter c\"))\n",
    "if(a>b) or (a>c):\n",
    "    print(a ,'is maximum')\n",
    "elif(b>c):\n",
    "        print(b ,'is maximum')\n",
    "else:\n",
    "            print(c ,'is maximum')\n",
    "        "
   ]
  },
  {
   "cell_type": "code",
   "execution_count": 12,
   "id": "9bf4bb64",
   "metadata": {},
   "outputs": [
    {
     "name": "stdout",
     "output_type": "stream",
     "text": [
      "enter number22\n",
      "positiv number\n"
     ]
    }
   ],
   "source": [
    "#relational oprator\n",
    "\n",
    "n=eval(input(\"enter number\"))\n",
    "if(n>0):\n",
    "    print(\"positiv number\")\n",
    "else:\n",
    "    print(\"nagitiv number\")"
   ]
  },
  {
   "cell_type": "code",
   "execution_count": 13,
   "id": "2fcde89c",
   "metadata": {},
   "outputs": [
    {
     "name": "stdout",
     "output_type": "stream",
     "text": [
      "enter number15\n",
      "odd number\n"
     ]
    }
   ],
   "source": [
    "n=eval(input(\"enter number\"))\n",
    "if (n%2==0):\n",
    "    print(\"even number\")\n",
    "else:\n",
    "    print(\"odd number\")"
   ]
  },
  {
   "cell_type": "code",
   "execution_count": 16,
   "id": "b43b8c18",
   "metadata": {},
   "outputs": [
    {
     "name": "stdout",
     "output_type": "stream",
     "text": [
      "enter number22\n",
      "you are adult\n"
     ]
    }
   ],
   "source": [
    "n=eval(input(\"enter number\"))\n",
    "if (n<18):\n",
    "    print('you are chaild')\n",
    "else:\n",
    "    print('you are adult')"
   ]
  },
  {
   "cell_type": "code",
   "execution_count": 18,
   "id": "cc95feca",
   "metadata": {},
   "outputs": [
    {
     "name": "stdout",
     "output_type": "stream",
     "text": [
      "enter year2024\n",
      "this is lipyear\n"
     ]
    }
   ],
   "source": [
    "n=eval(input(\"enter year\"))\n",
    "if (n%4==0):\n",
    "    print('this is lipyear')\n",
    "else :\n",
    "    print(\"thi is not lip year\")"
   ]
  }
 ],
 "metadata": {
  "kernelspec": {
   "display_name": "Python 3 (ipykernel)",
   "language": "python",
   "name": "python3"
  },
  "language_info": {
   "codemirror_mode": {
    "name": "ipython",
    "version": 3
   },
   "file_extension": ".py",
   "mimetype": "text/x-python",
   "name": "python",
   "nbconvert_exporter": "python",
   "pygments_lexer": "ipython3",
   "version": "3.9.12"
  }
 },
 "nbformat": 4,
 "nbformat_minor": 5
}
