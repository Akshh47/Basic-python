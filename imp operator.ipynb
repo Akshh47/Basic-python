{
 "cells": [
  {
   "cell_type": "code",
   "execution_count": 1,
   "id": "a25f0d84",
   "metadata": {},
   "outputs": [
    {
     "name": "stdout",
     "output_type": "stream",
     "text": [
      "enter n122\n",
      "enter n211\n",
      "n1 is 22\n",
      "n2 is 11\n",
      "n1 is 33\n",
      "n1 is 22\n",
      "n1 is 242\n",
      "n1 is 22.0\n",
      "n1 is 0.0\n",
      "n1 is 0.0\n",
      "n1 is 11\n"
     ]
    }
   ],
   "source": [
    "#assignment operator\n",
    "\n",
    "n1=eval(input(\"enter n1\"))\n",
    "n2=eval(input(\"enter n2\"))\n",
    "print(\"n1 is\",n1)\n",
    "print(\"n2 is\",n2)\n",
    "n1+=n2\n",
    "print(\"n1 is\",n1)\n",
    "n1-=n2\n",
    "print(\"n1 is\",n1)\n",
    "n1*=n2\n",
    "print(\"n1 is\",n1)\n",
    "n1/=n2\n",
    "print(\"n1 is\",n1)\n",
    "n1%=n2\n",
    "print(\"n1 is\",n1)\n",
    "n1**=n2\n",
    "print(\"n1 is\",n1)\n",
    "print(\"n1 is\",n2)\n"
   ]
  },
  {
   "cell_type": "markdown",
   "id": "4448d540",
   "metadata": {},
   "source": [
    "\n"
   ]
  },
  {
   "cell_type": "code",
   "execution_count": 2,
   "id": "ba577a64",
   "metadata": {},
   "outputs": [
    {
     "name": "stdout",
     "output_type": "stream",
     "text": [
      "True\n",
      "False\n",
      "True\n"
     ]
    }
   ],
   "source": [
    "#identity operator\n",
    "\n",
    "x=[1,2,3]\n",
    "y=[1,2,3]\n",
    "z=x\n",
    "\n",
    "print(x==y)\n",
    "print(x is y)\n",
    "print(z is x)"
   ]
  },
  {
   "cell_type": "code",
   "execution_count": 5,
   "id": "3e5f9f5e",
   "metadata": {},
   "outputs": [
    {
     "name": "stdout",
     "output_type": "stream",
     "text": [
      "True\n",
      "True\n",
      "False\n"
     ]
    }
   ],
   "source": [
    "#membership operator\n",
    "\n",
    "x = [\"cricket\", \"football\"]\n",
    "\n",
    "print(\"football\" in x)\n",
    "print(\"cricket\" not in \"football\")\n",
    "print(\"football\"in z)"
   ]
  }
 ],
 "metadata": {
  "kernelspec": {
   "display_name": "Python 3 (ipykernel)",
   "language": "python",
   "name": "python3"
  },
  "language_info": {
   "codemirror_mode": {
    "name": "ipython",
    "version": 3
   },
   "file_extension": ".py",
   "mimetype": "text/x-python",
   "name": "python",
   "nbconvert_exporter": "python",
   "pygments_lexer": "ipython3",
   "version": "3.9.12"
  }
 },
 "nbformat": 4,
 "nbformat_minor": 5
}
