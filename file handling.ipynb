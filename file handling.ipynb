{
 "cells": [
  {
   "cell_type": "code",
   "execution_count": 1,
   "id": "688a4c51",
   "metadata": {},
   "outputs": [],
   "source": [
    "l1 = open('Joins.txt','w')\n",
    "l1.write (\"this is qustions.....\\n\")\n",
    "l1.write (\"solve this qustions in sql....\\n\")\n",
    "l1.close()"
   ]
  },
  {
   "cell_type": "code",
   "execution_count": 2,
   "id": "f0eae83d",
   "metadata": {},
   "outputs": [],
   "source": [
    "l1 = open ('Joins.txt','a')\n",
    "l1.write(\"now uplord on classroom\")\n",
    "l1.close()"
   ]
  },
  {
   "cell_type": "code",
   "execution_count": 4,
   "id": "b833b048",
   "metadata": {},
   "outputs": [
    {
     "name": "stdout",
     "output_type": "stream",
     "text": [
      "this is qustions.....\n",
      "solve this qustions in sql....\n",
      "now uplord on classroom\n"
     ]
    }
   ],
   "source": [
    "k1=open(\"Joins.txt\",'r')\n",
    "print(k1.read())\n",
    "k1.close()"
   ]
  },
  {
   "cell_type": "markdown",
   "id": "819c6db4",
   "metadata": {},
   "source": [
    " "
   ]
  },
  {
   "cell_type": "code",
   "execution_count": 6,
   "id": "143aeed4",
   "metadata": {},
   "outputs": [
    {
     "name": "stdout",
     "output_type": "stream",
     "text": [
      "this is qustions.....\n",
      "\n",
      "solve this qustions in sql....\n",
      "\n",
      "now uplord on classroom\n"
     ]
    }
   ],
   "source": [
    "l=open('Joins.txt','r')\n",
    "for x in l:\n",
    "    print (x)\n",
    "    \n",
    "l.close() "
   ]
  },
  {
   "cell_type": "code",
   "execution_count": null,
   "id": "b3eebc04",
   "metadata": {},
   "outputs": [],
   "source": []
  }
 ],
 "metadata": {
  "kernelspec": {
   "display_name": "Python 3 (ipykernel)",
   "language": "python",
   "name": "python3"
  },
  "language_info": {
   "codemirror_mode": {
    "name": "ipython",
    "version": 3
   },
   "file_extension": ".py",
   "mimetype": "text/x-python",
   "name": "python",
   "nbconvert_exporter": "python",
   "pygments_lexer": "ipython3",
   "version": "3.9.12"
  }
 },
 "nbformat": 4,
 "nbformat_minor": 5
}
