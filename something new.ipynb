{
 "cells": [
  {
   "cell_type": "code",
   "execution_count": 5,
   "id": "fc213f98",
   "metadata": {},
   "outputs": [
    {
     "name": "stdout",
     "output_type": "stream",
     "text": [
      "enter the number for table 6\n",
      "6 * 1 = 6\n",
      "6 * 2 = 12\n",
      "6 * 3 = 18\n",
      "6 * 4 = 24\n",
      "6 * 5 = 30\n",
      "6 * 6 = 36\n",
      "6 * 7 = 42\n",
      "6 * 8 = 48\n",
      "6 * 9 = 54\n",
      "6 * 10 = 60\n"
     ]
    }
   ],
   "source": [
    "#table \n",
    "i = 1\n",
    "num = eval(input(\"enter the number for table \"))\n",
    "while(i<=10):\n",
    "    print(num,'*',i,'=',num*i)\n",
    "    i+=1"
   ]
  },
  {
   "cell_type": "code",
   "execution_count": 7,
   "id": "14ba1f56",
   "metadata": {},
   "outputs": [
    {
     "name": "stdout",
     "output_type": "stream",
     "text": [
      "red\n",
      "big\n",
      "tasty\n",
      "\n",
      "\n",
      "red apple\n",
      "red banana\n",
      "red cherry\n",
      "big apple\n",
      "big banana\n",
      "big cherry\n",
      "tasty apple\n",
      "tasty banana\n",
      "tasty cherry\n"
     ]
    }
   ],
   "source": [
    "adj = [\"red\", \"big\", \"tasty\"]\n",
    "for i in adj:\n",
    "    print(i)\n",
    "print()\n",
    "print()\n",
    "\n",
    "fruits = [\"apple\",\"banana\",\"cherry\"]\n",
    "\n",
    "for x in adj:\n",
    "    for y in fruits:\n",
    "        print(x,y)"
   ]
  },
  {
   "cell_type": "code",
   "execution_count": 10,
   "id": "edd1e712",
   "metadata": {},
   "outputs": [
    {
     "name": "stdout",
     "output_type": "stream",
     "text": [
      "enter the number you want factorial of5\n",
      "factorial of  5 is  120\n"
     ]
    }
   ],
   "source": [
    "#factorial of num\n",
    "a = eval(input(\"enter the number you want factorial of\"))\n",
    "b = a\n",
    "f = 1\n",
    "while(a>=1):\n",
    "    f= f*a\n",
    "    a-=1\n",
    "    \n",
    "print(\"factorial of \",b,\"is \",f)"
   ]
  },
  {
   "cell_type": "code",
   "execution_count": null,
   "id": "fa098e63",
   "metadata": {},
   "outputs": [],
   "source": [
    "thislist = [\"apple\",\"banana\",\"cherry\"]\n",
    "print(thislist[1])\n",
    "print(thislist[-1])\n",
    "print(thislist[0:3])\n",
    "thislist[1] = 'strawberry'\n",
    "print(thislist)\n",
    "\n",
    "del thislist\n",
    "print(thislist)"
   ]
  },
  {
   "cell_type": "code",
   "execution_count": 10,
   "id": "7d8046e5",
   "metadata": {},
   "outputs": [
    {
     "name": "stdout",
     "output_type": "stream",
     "text": [
      "lenght of liist is:  4\n",
      "10 20 30 40 \n"
     ]
    }
   ],
   "source": [
    "l = [10,20,30,40]\n",
    "l1 = len(l)\n",
    "print(\"lenght of liist is: \",l1)\n",
    "for i in range(l1):\n",
    "    print(l[i], end =\" \")\n",
    "print()"
   ]
  },
  {
   "cell_type": "code",
   "execution_count": 11,
   "id": "13741f45",
   "metadata": {},
   "outputs": [
    {
     "name": "stdout",
     "output_type": "stream",
     "text": [
      "1\n",
      "2\n",
      "3\n",
      "4\n",
      "5\n",
      "6\n",
      "7\n",
      "8\n",
      "9\n",
      "10\n",
      "0 1 2 3 4 5 6 7 8 9 \n"
     ]
    }
   ],
   "source": [
    "for i in range(1,11,1):\n",
    "    print(i)    \n",
    "for i in range(10):\n",
    "    print(i, end = \" \")\n",
    "print()"
   ]
  },
  {
   "cell_type": "code",
   "execution_count": 22,
   "id": "095b4706",
   "metadata": {},
   "outputs": [
    {
     "name": "stdout",
     "output_type": "stream",
     "text": [
      "10 "
     ]
    }
   ],
   "source": [
    "#continue function\n",
    "for i in range(1,11):\n",
    "    if i==6:\n",
    "        continue\n",
    "else:\n",
    "    print(i, end = \" \")\n",
    "   \n",
    "# brake statement\n",
    "\n",
    "for i in range(1,11):\n",
    "    break\n",
    "else:\n",
    "    print(i, end = \" \")"
   ]
  },
  {
   "cell_type": "code",
   "execution_count": 2,
   "id": "f2a53356",
   "metadata": {},
   "outputs": [
    {
     "name": "stdout",
     "output_type": "stream",
     "text": [
      "Enter a number:99\n",
      "The total sum of digits is: 18\n"
     ]
    }
   ],
   "source": [
    "#sum of digit\n",
    "n=int(input(\"Enter a number:\"))\n",
    "sum=0\n",
    "while(n>0):\n",
    "    pr=n%10\n",
    "    sum=sum+pr\n",
    "    n=n//10\n",
    "print(\"The total sum of digits is:\",sum)"
   ]
  }
 ],
 "metadata": {
  "kernelspec": {
   "display_name": "Python 3 (ipykernel)",
   "language": "python",
   "name": "python3"
  },
  "language_info": {
   "codemirror_mode": {
    "name": "ipython",
    "version": 3
   },
   "file_extension": ".py",
   "mimetype": "text/x-python",
   "name": "python",
   "nbconvert_exporter": "python",
   "pygments_lexer": "ipython3",
   "version": "3.9.12"
  }
 },
 "nbformat": 4,
 "nbformat_minor": 5
}
