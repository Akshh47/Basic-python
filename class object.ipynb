{
 "cells": [
  {
   "cell_type": "code",
   "execution_count": 1,
   "id": "3b86270c",
   "metadata": {},
   "outputs": [
    {
     "name": "stdout",
     "output_type": "stream",
     "text": [
      "the id is  1\n",
      "the name is  dhyan\n",
      "the marks of maths is  50\n",
      "the marks of sci is  50\n",
      "the total is  100\n"
     ]
    }
   ],
   "source": [
    "class student :\n",
    "    def input(self,id,name,maths,sci):\n",
    "        self.id=id\n",
    "        self.name=name\n",
    "        self.maths=maths\n",
    "        self.sci=sci\n",
    "    def disp(self):\n",
    "        print(\"the id is \", self.id)\n",
    "        print(\"the name is \", self.name)\n",
    "        print(\"the marks of maths is \", self.maths)\n",
    "        print(\"the marks of sci is \", self.sci)\n",
    "class result(student):\n",
    "    def total(self):\n",
    "        print(\"the total is \",self.maths+self.sci)\n",
    "r=result()\n",
    "r.input(1,\"dhyan\",50,50)\n",
    "r.disp()\n",
    "r.total()"
   ]
  },
  {
   "cell_type": "code",
   "execution_count": 13,
   "id": "52c30976",
   "metadata": {},
   "outputs": [
    {
     "name": "stdout",
     "output_type": "stream",
     "text": [
      "the value of n1 is  22\n",
      "the value of n2 is  20\n",
      "the addition of  42\n",
      "the addition of  2\n",
      "the addition of  440\n",
      "the addition of  1.1\n",
      "the addition of  2\n"
     ]
    }
   ],
   "source": [
    "class number:\n",
    "    def input(self,n1,n2):\n",
    "        self.n1=n1\n",
    "        self.n2=n2\n",
    "    def disp(self):\n",
    "        print(\"the value of n1 is \", self.n1)\n",
    "        print(\"the value of n2 is \", self.n2)\n",
    "class air(number):\n",
    "    def total(self):\n",
    "        print(\"the addition of \",self.n1+self.n2)\n",
    "        print(\"the addition of \",self.n1-self.n2)\n",
    "        print(\"the addition of \",self.n1*self.n2)\n",
    "        print(\"the addition of \",self.n1/self.n2)\n",
    "        print(\"the addition of \",self.n1%self.n2)\n",
    "r=air()\n",
    "r.input(22,20)\n",
    "r.disp()\n",
    "r.total()"
   ]
  },
  {
   "cell_type": "code",
   "execution_count": 6,
   "id": "4b937766",
   "metadata": {},
   "outputs": [
    {
     "name": "stdout",
     "output_type": "stream",
     "text": [
      "the value of n1 is  22\n",
      "the value of n2 is  25\n",
      "n1 22  is min\n"
     ]
    }
   ],
   "source": [
    "#minimum value using class\n",
    "class number:\n",
    "    def input(self,n1,n2):\n",
    "        self.n1=n1\n",
    "        self.n2=n2\n",
    "    def disp(self):\n",
    "        print(\"the value of n1 is \",self.n1)\n",
    "        print(\"the value of n2 is \",self.n2)\n",
    "class result(number):\n",
    "    def min(self):\n",
    "        if self.n1<self.n2:\n",
    "            print(\"n1\",self.n1,\" is min\")\n",
    "        else:\n",
    "            print(\"n2\",self.n2,\" is min\")\n",
    "r=result()\n",
    "r.input(22,25)\n",
    "r.disp()\n",
    "r.min()"
   ]
  },
  {
   "cell_type": "code",
   "execution_count": 7,
   "id": "cdb62350",
   "metadata": {},
   "outputs": [
    {
     "name": "stdout",
     "output_type": "stream",
     "text": [
      "the value of n1 is  22\n",
      "the value of n2 is  25\n",
      "n2 25  is max\n"
     ]
    }
   ],
   "source": [
    "class number:\n",
    "    def input(self,n1,n2):\n",
    "        self.n1=n1\n",
    "        self.n2=n2\n",
    "    def disp(self):\n",
    "        print(\"the value of n1 is \",self.n1)\n",
    "        print(\"the value of n2 is \",self.n2)\n",
    "class result(number):\n",
    "    def max(self):\n",
    "        if self.n1>self.n2:\n",
    "            print(\"n1\",self.n1,\" is max\")\n",
    "        else:\n",
    "            print(\"n2\",self.n2,\" is max\")\n",
    "r=result()\n",
    "r.input(22,25)\n",
    "r.disp()\n",
    "r.max()"
   ]
  }
 ],
 "metadata": {
  "kernelspec": {
   "display_name": "Python 3 (ipykernel)",
   "language": "python",
   "name": "python3"
  },
  "language_info": {
   "codemirror_mode": {
    "name": "ipython",
    "version": 3
   },
   "file_extension": ".py",
   "mimetype": "text/x-python",
   "name": "python",
   "nbconvert_exporter": "python",
   "pygments_lexer": "ipython3",
   "version": "3.9.12"
  }
 },
 "nbformat": 4,
 "nbformat_minor": 5
}
