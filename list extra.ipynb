{
 "cells": [
  {
   "cell_type": "code",
   "execution_count": 12,
   "id": "b477e545",
   "metadata": {},
   "outputs": [
    {
     "name": "stdout",
     "output_type": "stream",
     "text": [
      "initial list\n",
      "[1, 2, 3, 4, 5, 6, 7, 8, 9, 10, 11, 12]\n",
      "\n",
      " list after removieng a range of elements : \n",
      "[5, 6, 7, 8, 9, 10, 11, 12]\n",
      "['pinky', 'dhyan', 'tejal', 7, 8, 9, 10, 11, 12]\n",
      "['dhyan', 7, 9, 11]\n"
     ]
    }
   ],
   "source": [
    "#remove using for loop\n",
    "list = [1,2,3,4,5,6,7,8,9,10,11,12]\n",
    "print(\"initial list\")\n",
    "print(list)\n",
    "\n",
    "for i in range(1,5):\n",
    "    list.remove(i)\n",
    "\n",
    "print(\"\\n list after removieng a range of elements : \")\n",
    "print(list)\n",
    "\n",
    "#removing elements from the list using iterator method \n",
    "list1 = ['pinky', 'dhyan', 'tejal',7,8,9,10,11,12]\n",
    "print(list1)\n",
    "for k in list1:\n",
    "    list1.remove(k)\n",
    "print(list1)\n",
    "#deleting random"
   ]
  },
  {
   "cell_type": "code",
   "execution_count": 15,
   "id": "5b46017e",
   "metadata": {},
   "outputs": [
    {
     "name": "stdout",
     "output_type": "stream",
     "text": [
      "list before popping : \n",
      "[1, 2, 3, 4, 5]\n",
      "list after popping an element : \n",
      "[1, 2, 3, 4]\n",
      "list after popping a specific element : \n",
      "[1, 2, 4]\n"
     ]
    }
   ],
   "source": [
    "#POP function\n",
    "list2 = [1,2,3,4,5]\n",
    "print(\"list before popping : \")\n",
    "print(list2)\n",
    "list2.pop()\n",
    "print(\"list after popping an element : \")\n",
    "print(list2)\n",
    "list2.pop(2)\n",
    "print(\"list after popping a specific element : \")\n",
    "print(list2)"
   ]
  },
  {
   "cell_type": "code",
   "execution_count": 1,
   "id": "e23895d7",
   "metadata": {},
   "outputs": [
    {
     "name": "stdout",
     "output_type": "stream",
     "text": [
      "initial list :\n",
      "['G', 'e', 'e', 'k', 's', 'f', 'o', 'r', 'g', 'e', 'e', 'k', 's']\n",
      "slicing element of range 3:8 :\n",
      "['k', 's', 'f', 'o', 'r']\n",
      "['G', 'e', 'e', 'k']\n",
      "element sliced from 5th veriable :\n",
      "['G', 'e', 'e', 'k', 's']\n"
     ]
    }
   ],
   "source": [
    "#slicing in list\n",
    "list3 = ['G','e','e','k','s','f','o','r','g','e','e','k','s']\n",
    "print(\"initial list :\")\n",
    "print(list3)\n",
    "sliced_list = list3[3:8]\n",
    "s1=list3[0:4]\n",
    "print(\"slicing element of range 3:8 :\")\n",
    "print(sliced_list)\n",
    "print(s1)\n",
    "sliced_list = list3[:5]\n",
    "print(\"element sliced from 5th veriable :\")\n",
    "print(sliced_list)"
   ]
  },
  {
   "cell_type": "code",
   "execution_count": 2,
   "id": "85242088",
   "metadata": {},
   "outputs": [
    {
     "name": "stdout",
     "output_type": "stream",
     "text": [
      "initial list :\n",
      "['G', 'e', 'e', 'k', 's', 'f', 'o', 'r', 'g', 'e', 'e', 'k', 's']\n",
      "element sliced till  6th element from last :\n",
      "['G', 'e', 'e', 'k', 's', 'f', 'o', 'r']\n",
      "element sliced from index -6 to -1 :\n",
      "['r', 'g', 'e', 'e', 'k']\n",
      "printing list in reverse\n",
      "['s', 'k', 'e', 'e', 'g', 'r', 'o', 'f', 's', 'k', 'e', 'e', 'G']\n"
     ]
    }
   ],
   "source": [
    "l1 = ['G','e','e','k','s','f','o','r','g','e','e','k','s']\n",
    "print(\"initial list :\")\n",
    "print(l1)\n",
    "sliced_l1 = l1[:-5]\n",
    "print(\"element sliced till  6th element from last :\")\n",
    "print(sliced_l1)\n",
    "sliced_l1 = l1[-6:-1]\n",
    "print(\"element sliced from index -6 to -1 :\")\n",
    "print(sliced_l1)\n",
    "sliced_l1 = l1[::-1]\n",
    "print(\"printing list in reverse\")\n",
    "print(sliced_l1)"
   ]
  },
  {
   "cell_type": "code",
   "execution_count": 3,
   "id": "b5e4fb2d",
   "metadata": {},
   "outputs": [
    {
     "name": "stdout",
     "output_type": "stream",
     "text": [
      "mihir dhiren debashish hiten 4\n",
      "['mihir', 'dhiren', 'debashish', 'hiten', 'Anita']\n",
      "['mihir', 'ankit', 'dhiren', 'debashish', 'hiten', 'Anita']\n"
     ]
    }
   ],
   "source": [
    "l2=[\"mihir\",\"dhiren\",\"debashish\",\"hiten\"]\n",
    "\n",
    "for i in l2:\n",
    "    print(i, end=\" \")\n",
    "\n",
    "print(len(l2))\n",
    "l2.append('Anita')\n",
    "print(l2)\n",
    "l2.insert(1, 'ankit')\n",
    "print(l2)"
   ]
  },
  {
   "cell_type": "code",
   "execution_count": 8,
   "id": "b9cf177b",
   "metadata": {},
   "outputs": [
    {
     "name": "stdout",
     "output_type": "stream",
     "text": [
      "['apple', 'banana', 'cherry']\n",
      "[1, 2, 3, 4, 5, 6]\n",
      "['m', 'd', 'p', 1, 2, 3]\n",
      "[3, 2, 1]\n",
      "['priyanki', 'dhyan', 'tejal']\n",
      "after sort function : \n",
      "['dhyan', 'priyanki', 'tejal']\n"
     ]
    }
   ],
   "source": [
    "#copy reverse and sort function\n",
    "thislist = ['apple','banana','cherry']\n",
    "mylist = thislist.copy()\n",
    "print(mylist)\n",
    "\n",
    "l1 = [1,2,3]\n",
    "l2 = [4,5,6]\n",
    "l3 = l1 + l2\n",
    "print(l3)\n",
    "l4 = ['m','d','p']\n",
    "l5 = [1,2,3]\n",
    "for i in l5:\n",
    "    l4.append(i)\n",
    "print(l4)\n",
    "l5.reverse()\n",
    "print(l5)\n",
    "\n",
    "name = ['priyanki','dhyan','tejal']\n",
    "print(name)\n",
    "print(\"after sort function : \")\n",
    "name.sort()\n",
    "print(name)"
   ]
  },
  {
   "cell_type": "code",
   "execution_count": 10,
   "id": "6d48a715",
   "metadata": {},
   "outputs": [
    {
     "name": "stdout",
     "output_type": "stream",
     "text": [
      "Accsing elements from multi diamention list : \n",
      "geeks\n",
      "for\n",
      "geeks\n",
      "python\n",
      "geeks21\n",
      "python\n"
     ]
    }
   ],
   "source": [
    "#multi diamention list\n",
    "list = [['geeks','for'],['geeks','python'],['geeks21','python']]\n",
    "print(\"Accsing elements from multi diamention list : \")\n",
    "print(list[0][0])\n",
    "print(list[0][1])\n",
    "print(list[1][0])\n",
    "print(list[1][1])\n",
    "print(list[2][0])\n",
    "print(list[2][1])"
   ]
  }
 ],
 "metadata": {
  "kernelspec": {
   "display_name": "Python 3 (ipykernel)",
   "language": "python",
   "name": "python3"
  },
  "language_info": {
   "codemirror_mode": {
    "name": "ipython",
    "version": 3
   },
   "file_extension": ".py",
   "mimetype": "text/x-python",
   "name": "python",
   "nbconvert_exporter": "python",
   "pygments_lexer": "ipython3",
   "version": "3.9.12"
  }
 },
 "nbformat": 4,
 "nbformat_minor": 5
}
