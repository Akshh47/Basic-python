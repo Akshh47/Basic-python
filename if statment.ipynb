{
 "cells": [
  {
   "cell_type": "code",
   "execution_count": 2,
   "id": "b79eca30",
   "metadata": {},
   "outputs": [
    {
     "name": "stdout",
     "output_type": "stream",
     "text": [
      "enter the num-22\n",
      "number is nagitive\n"
     ]
    }
   ],
   "source": [
    "num=eval(input(\"enter the num\"))\n",
    "if (num>0):\n",
    "    print('number is possitive')\n",
    "else:\n",
    "    print(\"number is nagitive\")\n",
    "    "
   ]
  },
  {
   "cell_type": "code",
   "execution_count": null,
   "id": "ce292d04",
   "metadata": {},
   "outputs": [],
   "source": []
  },
  {
   "cell_type": "markdown",
   "id": "ac5dba1c",
   "metadata": {},
   "source": []
  },
  {
   "cell_type": "code",
   "execution_count": 6,
   "id": "2b93d19e",
   "metadata": {},
   "outputs": [
    {
     "name": "stdout",
     "output_type": "stream",
     "text": [
      "enter a number23\n",
      "number is odd\n"
     ]
    }
   ],
   "source": [
    "num=eval(input(\"enter a number\"))\n",
    "if(num%2==0):\n",
    "    print(\"number is even\")\n",
    "else:\n",
    "    print(\"number is odd\")"
   ]
  },
  {
   "cell_type": "code",
   "execution_count": 7,
   "id": "010ccb88",
   "metadata": {},
   "outputs": [
    {
     "name": "stdout",
     "output_type": "stream",
     "text": [
      "enter a year2002\n",
      "year is not leap year\n"
     ]
    }
   ],
   "source": [
    "num=eval(input(\"enter a year\"))\n",
    "if (num%4==0):\n",
    "    print(\"year is leap year\")\n",
    "else:\n",
    "    print(\"year is not leap year\")"
   ]
  },
  {
   "cell_type": "code",
   "execution_count": 10,
   "id": "9fbde5a1",
   "metadata": {},
   "outputs": [
    {
     "name": "stdout",
     "output_type": "stream",
     "text": [
      "enter two number22,33\n",
      "num2 is maximum\n"
     ]
    }
   ],
   "source": [
    "num1,num2=eval(input(\"enter two number\"))\n",
    "if (num1>num2):\n",
    "    print(\"num1 is maximum\")\n",
    "else:\n",
    "    print(\"num2 is maximum\")"
   ]
  },
  {
   "cell_type": "markdown",
   "id": "dbcecaed",
   "metadata": {},
   "source": []
  },
  {
   "cell_type": "code",
   "execution_count": 11,
   "id": "d2bfa82b",
   "metadata": {},
   "outputs": [
    {
     "name": "stdout",
     "output_type": "stream",
     "text": [
      "num1 is minimum\n"
     ]
    }
   ],
   "source": [
    "num1=22\n",
    "num2=33\n",
    "num3=24\n",
    "if(num1<num2)and(num1<num3):\n",
    "    print(\"num1 is minimum\")\n",
    "elif(num2<num3):\n",
    "    print(\"num2 is minimum\")\n",
    "else:\n",
    "    print(\"num3 is minimum\")"
   ]
  },
  {
   "cell_type": "code",
   "execution_count": 25,
   "id": "85c512ee",
   "metadata": {},
   "outputs": [
    {
     "name": "stdout",
     "output_type": "stream",
     "text": [
      "enter the chemistry marks: 55\n",
      "enter the chemistry marks math: 22\n",
      "enter the chemistry marks phy: 10\n",
      "total is: 87\n",
      "per is : 29.0\n",
      "your are failed\n"
     ]
    }
   ],
   "source": [
    "sub1=eval(input(\"enter the chemistry marks: \"))\n",
    "sub2=eval(input(\"enter the chemistry marks math: \"))\n",
    "sub3=eval(input(\"enter the chemistry marks phy: \"))\n",
    "\n",
    "total= sub1 + sub2 + sub3\n",
    "print(\"total is:\", total)\n",
    "per = total / 3\n",
    "print(\"per is :\",per)\n",
    "\n",
    "if (per>=80):\n",
    "    print(\"your gread is A\")\n",
    " \n",
    "elif (per>=60):\n",
    "     print(\"your gread is B\")\n",
    "    \n",
    "elif (per>=40):    \n",
    "     print(\"your gread is C\")\n",
    "        \n",
    "else:\n",
    "     print(\"your are failed\")"
   ]
  },
  {
   "cell_type": "code",
   "execution_count": null,
   "id": "257cb53d",
   "metadata": {},
   "outputs": [],
   "source": []
  },
  {
   "cell_type": "code",
   "execution_count": 31,
   "id": "20c26847",
   "metadata": {},
   "outputs": [
    {
     "name": "stdout",
     "output_type": "stream",
     "text": [
      "1 3 5 7 9 11 13 15 17 19 "
     ]
    }
   ],
   "source": [
    "n=1\n",
    "while(n<=20):\n",
    "    print(n,end=\" \")\n",
    "    n+=2"
   ]
  },
  {
   "cell_type": "code",
   "execution_count": 2,
   "id": "9bce4f62",
   "metadata": {},
   "outputs": [
    {
     "name": "stdout",
     "output_type": "stream",
     "text": [
      "2\n",
      "4\n",
      "6\n",
      "8\n",
      "10\n",
      "12\n",
      "14\n",
      "16\n",
      "18\n",
      "20\n"
     ]
    }
   ],
   "source": [
    "m=2\n",
    "while(m<=20):\n",
    "    print(m)\n",
    "    m+=2"
   ]
  },
  {
   "cell_type": "code",
   "execution_count": 16,
   "id": "1ce6bc3c",
   "metadata": {},
   "outputs": [],
   "source": []
  }
 ],
 "metadata": {
  "kernelspec": {
   "display_name": "Python 3 (ipykernel)",
   "language": "python",
   "name": "python3"
  },
  "language_info": {
   "codemirror_mode": {
    "name": "ipython",
    "version": 3
   },
   "file_extension": ".py",
   "mimetype": "text/x-python",
   "name": "python",
   "nbconvert_exporter": "python",
   "pygments_lexer": "ipython3",
   "version": "3.9.12"
  }
 },
 "nbformat": 4,
 "nbformat_minor": 5
}
