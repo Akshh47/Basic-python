{
 "cells": [
  {
   "cell_type": "code",
   "execution_count": 1,
   "id": "2f178262",
   "metadata": {},
   "outputs": [
    {
     "name": "stdout",
     "output_type": "stream",
     "text": [
      "hey...\n",
      "my name is axil...\n",
      "\n",
      "hey...\n",
      "my name is axil...\n",
      "i'm from india\n"
     ]
    }
   ],
   "source": [
    "# write function\n",
    "\n",
    "j = open('axil.txt','w')\n",
    "j.write(\"hey...\\n\")\n",
    "j.write(\"my name is axil...\\n\")\n",
    "j.close()\n",
    "\n",
    "# read function\n",
    "\n",
    "j1=open('axil.txt','r')\n",
    "print(j1.read())\n",
    "j1.close()\n",
    "\n",
    "#append function\n",
    "\n",
    "j2=open('axil.txt','a')\n",
    "j2.write(\"i'm from india\")\n",
    "j2.close()\n",
    "\n",
    "j1=open('axil.txt','r')\n",
    "print(j1.read())\n",
    "j1.close()"
   ]
  },
  {
   "cell_type": "code",
   "execution_count": 2,
   "id": "a5bfbdb8",
   "metadata": {},
   "outputs": [],
   "source": [
    "# with  the external location\n",
    "\n",
    "j = open(\"D:\\\\axil.txt\",'w')\n",
    "j.write(\"hey\")\n",
    "j.close()\n",
    "\n"
   ]
  },
  {
   "cell_type": "code",
   "execution_count": null,
   "id": "b1046641",
   "metadata": {},
   "outputs": [],
   "source": [
    "# remove file\n",
    "import os\n",
    "os.remove('axil.txt')\n"
   ]
  },
  {
   "cell_type": "code",
   "execution_count": 10,
   "id": "99133746",
   "metadata": {},
   "outputs": [],
   "source": [
    "# remove file with location\n",
    "\n",
    "import os\n",
    "os.remove('D:\\\\axil.txt')"
   ]
  },
  {
   "cell_type": "code",
   "execution_count": 3,
   "id": "efaf9472",
   "metadata": {},
   "outputs": [
    {
     "name": "stdout",
     "output_type": "stream",
     "text": [
      "hey...\n",
      "\n",
      "my name is axil...\n",
      "\n",
      "i'm from india\n"
     ]
    }
   ],
   "source": [
    "# reading file content using for loop\n",
    "\n",
    "f = open(\"axil.txt\",'r')\n",
    "for x in f:\n",
    "    print(x)\n",
    "\n",
    "f.close()"
   ]
  },
  {
   "cell_type": "code",
   "execution_count": 5,
   "id": "f8596fd9",
   "metadata": {},
   "outputs": [],
   "source": [
    "# rotate function\n",
    "from PIL import Image\n",
    "def main():\n",
    "    try:\n",
    "        # relative path\n",
    "        img= image.open(\"axil22.jpg\")\n",
    "        #angle given\n",
    "        img= image.rotate(180)\n",
    "        #save in the same relative location\n",
    "        img.save(\"rotate.jpg\")\n",
    "    except IOerror:\n",
    "        pass\n",
    "    if __name__==\"__main__\":\n",
    "        main()"
   ]
  },
  {
   "cell_type": "code",
   "execution_count": 4,
   "id": "79f03bd1",
   "metadata": {},
   "outputs": [],
   "source": [
    "#crop picture\n",
    "from PIL import Image\n",
    "def main():\n",
    "    try:\n",
    "        # relative path\n",
    "        img= image.open(\"axil22.jpg\")\n",
    "        width, height = img.size\n",
    "        \n",
    "        area = (0,0,width/2,height/2)\n",
    "        img= image.crop(area)\n",
    "        #save in the same relative location\n",
    "        img.save(\"crop.jpg\")\n",
    "    except IOerror:\n",
    "        pass\n",
    "    if __name__==\"__main__\":\n",
    "        main()"
   ]
  },
  {
   "cell_type": "code",
   "execution_count": 3,
   "id": "ba54b4f7",
   "metadata": {},
   "outputs": [],
   "source": [
    "# resize picture\n",
    "from PIL import Image\n",
    "def main():\n",
    "    try:\n",
    "        # relative path\n",
    "        img= image.open(\"axil22.jpg\")\n",
    "        #angle given\n",
    "        img= image.resize((300,300))\n",
    "        #save in the same relative location\n",
    "        img.save(\"resize.jpg\")\n",
    "    except IOerror:\n",
    "        pass\n",
    "    if __name__==\"__main__\":\n",
    "        main()"
   ]
  },
  {
   "cell_type": "code",
   "execution_count": 2,
   "id": "51fc4470",
   "metadata": {},
   "outputs": [],
   "source": [
    "#copy paste function\n",
    "from PIL import Image\n",
    "def main():\n",
    "    try:\n",
    "        #image on we want to paste\n",
    "        img= image.open(\"axil22.jpg\")\n",
    "        #image we want to paste\n",
    "        img2= image.open(\"axil2.jpg\")\n",
    "        img.paste(img2, (60,50))\n",
    "        img.save(\"paste.jpg\")\n",
    "    except IOerror:\n",
    "        pass\n",
    "    if __name__==\"__main__\":\n",
    "        main()"
   ]
  },
  {
   "cell_type": "code",
   "execution_count": 1,
   "id": "775b3986",
   "metadata": {},
   "outputs": [],
   "source": [
    "# rotate function\n",
    "from PIL import Image\n",
    "def main():\n",
    "    try:\n",
    "        # relative path\n",
    "        img= image.open(\"axil22.jpg\")\n",
    "        #angle given\n",
    "        img= image.thumbnail((200,200))\n",
    "        #save in the same relative location\n",
    "        img.save(\"thumbnail.jpg\")\n",
    "    except IOerror:\n",
    "        pass\n",
    "    if __name__==\"__main__\":\n",
    "        main()"
   ]
  },
  {
   "cell_type": "code",
   "execution_count": null,
   "id": "6b48e2ae",
   "metadata": {},
   "outputs": [],
   "source": []
  },
  {
   "cell_type": "code",
   "execution_count": null,
   "id": "b8a1b9c4",
   "metadata": {},
   "outputs": [],
   "source": []
  }
 ],
 "metadata": {
  "kernelspec": {
   "display_name": "Python 3 (ipykernel)",
   "language": "python",
   "name": "python3"
  },
  "language_info": {
   "codemirror_mode": {
    "name": "ipython",
    "version": 3
   },
   "file_extension": ".py",
   "mimetype": "text/x-python",
   "name": "python",
   "nbconvert_exporter": "python",
   "pygments_lexer": "ipython3",
   "version": "3.9.12"
  }
 },
 "nbformat": 4,
 "nbformat_minor": 5
}
