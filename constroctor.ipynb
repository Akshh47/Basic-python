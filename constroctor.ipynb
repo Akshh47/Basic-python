{
 "cells": [
  {
   "cell_type": "code",
   "execution_count": 4,
   "id": "323452f1",
   "metadata": {},
   "outputs": [
    {
     "name": "stdout",
     "output_type": "stream",
     "text": [
      "first number =  1000\n",
      "second number =  2000\n",
      "Addition of two number is 3000\n"
     ]
    }
   ],
   "source": [
    "#counstroctor and fumction in class together\n",
    "#counstroctir are like functions\n",
    "\n",
    "class Addition:\n",
    "    first = 0\n",
    "    second = 0\n",
    "    answer = 0\n",
    "#parammetrized constroctor\n",
    "    def __init__(self,f,s):\n",
    "        self.first = f\n",
    "        self.second = s\n",
    "    def calculate(self):\n",
    "        self.answer = self.first + self.second\n",
    "    def display(self):\n",
    "        print(\"first number = \",str(self.first))\n",
    "        print(\"second number = \",str(self.second))\n",
    "        print(\"Addition of two number is\",str(self.answer))\n",
    "obj = Addition(1000,2000)\n",
    "obj.calculate()\n",
    "obj.display()"
   ]
  },
  {
   "cell_type": "code",
   "execution_count": 15,
   "id": "2b345134",
   "metadata": {},
   "outputs": [
    {
     "name": "stdout",
     "output_type": "stream",
     "text": [
      "harshit 22\n",
      "arun 2000\n",
      "{'name': 'arun', 'age': 23, 'id': 2000, 'salary': 25000}\n",
      "{'name': 'harshit', 'age': 22, 'id': 1000, 'salary': 12340}\n"
     ]
    }
   ],
   "source": [
    "class employee:\n",
    "    def __init__(self,name,age,id,salary):\n",
    "        self.name = name\n",
    "        self.age = age\n",
    "        self.id = id\n",
    "        self.salary = salary\n",
    "        \n",
    "emp1 = employee('arun',23,2000,25000)\n",
    "emp2 = employee('harshit',22,1000,12340)\n",
    "\n",
    "print(emp2.name,emp2.age)\n",
    "print(emp1.name,emp1.id)\n",
    "print(emp1.__dict__)\n",
    "print(emp2.__dict__)"
   ]
  },
  {
   "cell_type": "code",
   "execution_count": 17,
   "id": "e3d28811",
   "metadata": {},
   "outputs": [
    {
     "name": "stdout",
     "output_type": "stream",
     "text": [
      "harshit\n",
      "{'name': 'harshit', 'age': 22, 'salary': 10000}\n",
      "{'name': 'amit', 'age': 20, 'salary': 2500, 'id': 2}\n"
     ]
    }
   ],
   "source": [
    "class employee1():\n",
    "    def __init__(self,name,age,salary):\n",
    "        self.name = name\n",
    "        self.age = age\n",
    "        self.salary = salary\n",
    "class childemployee(employee1):\n",
    "    def __init__(self,name,age,salary,id):\n",
    "        self.name=name\n",
    "        self.age=age\n",
    "        self.salary=salary\n",
    "        self.id=id\n",
    "        \n",
    "emp1=employee1('harshit',22,10000)\n",
    "emp2=childemployee('amit',20,2500,2)\n",
    "print(emp1.name)\n",
    "print(emp1.__dict__)\n",
    "print(emp2.__dict__)"
   ]
  },
  {
   "cell_type": "code",
   "execution_count": 18,
   "id": "63f6396c",
   "metadata": {},
   "outputs": [
    {
     "name": "stdout",
     "output_type": "stream",
     "text": [
      "harshit\n",
      "{'name': 'harshit', 'age': 22, 'salary': 1000}\n",
      "1234\n"
     ]
    }
   ],
   "source": [
    "\n",
    "class employee1():\n",
    "    def __init__(self,name,age,salary):\n",
    "        self.name = name\n",
    "        self.age = age\n",
    "        self.salary = salary\n",
    "        \n",
    "class employee2(employee1):\n",
    "    def __init__(self,name,age,salary,id):\n",
    "        self.name=name\n",
    "        self.age=age\n",
    "        self.salary=salary\n",
    "        self.id=id\n",
    "        \n",
    "class childemployee(employee1):\n",
    "    def __init__(self,name,age,salary,id):\n",
    "        self.name=name\n",
    "        self.age=age\n",
    "        self.salary=salary\n",
    "        self.id=id\n",
    "        \n",
    "emp1=employee1('harshit',22,1000)\n",
    "emp2=childemployee('arjun',23,2000,1234)\n",
    "print(emp1.name)\n",
    "print(emp1.__dict__)\n",
    "print(emp2.id)"
   ]
  },
  {
   "cell_type": "code",
   "execution_count": 21,
   "id": "9f3422d6",
   "metadata": {},
   "outputs": [
    {
     "name": "stdout",
     "output_type": "stream",
     "text": [
      "{'name': 'harshit', 'age': 22, 'salary': 1000}\n",
      "{'name': 'arjun', 'age': 23, 'salary': 2000}\n"
     ]
    }
   ],
   "source": [
    "#hierichical inheritance\n",
    "class employee():\n",
    "    def __init__(self,name,age,salary):\n",
    "        self.name = name\n",
    "        self.age = age\n",
    "        self.salary = salary\n",
    "        \n",
    "class childemployee1():\n",
    "    def __init__(self,name,age,salary):\n",
    "        self.name = name\n",
    "        self.age = age\n",
    "        self.salary = salary\n",
    "        \n",
    "class childemployee2():\n",
    "    def __init__(self,name,age,salary):\n",
    "        self.name = name\n",
    "        self.age = age\n",
    "        self.salary = salary\n",
    "        \n",
    "emp1=employee('harshit',22,1000)\n",
    "emp2=employee('arjun',23,2000)\n",
    "\n",
    "print(emp1.__dict__)\n",
    "print(emp2.__dict__)"
   ]
  },
  {
   "cell_type": "code",
   "execution_count": 23,
   "id": "dde6af51",
   "metadata": {},
   "outputs": [
    {
     "name": "stdout",
     "output_type": "stream",
     "text": [
      "{'name': 'harshit', 'age': 22, 'salary': 1000}\n",
      "{'name': 'arjun', 'age': 23, 'salary': 2000}\n",
      "{'name': 'dhyan', 'age': 5, 'salary': 25000}\n"
     ]
    }
   ],
   "source": [
    "#multilevel inheritance\n",
    "class employee():\n",
    "    def __init__(self,name,age,salary):\n",
    "        self.name = name\n",
    "        self.age = age\n",
    "        self.salary = salary\n",
    "        \n",
    "class childemployee1():\n",
    "    def __init__(self,name,age,salary):\n",
    "        self.name = name\n",
    "        self.age = age\n",
    "        self.salary = salary\n",
    "        \n",
    "class childemployee2():\n",
    "    def __init__(self,name,age,salary):\n",
    "        self.name = name\n",
    "        self.age = age\n",
    "        self.salary = salary\n",
    "        \n",
    "emp1=employee1('harshit',22,1000)\n",
    "emp2=childemployee1('arjun',23,2000)\n",
    "emp3=childemployee2('dhyan',5,25000)\n",
    "\n",
    "print(emp1.__dict__)\n",
    "print(emp2.__dict__)\n",
    "print(emp3.__dict__)"
   ]
  },
  {
   "cell_type": "code",
   "execution_count": 26,
   "id": "f6d61c10",
   "metadata": {},
   "outputs": [
    {
     "name": "stdout",
     "output_type": "stream",
     "text": [
      "1\n",
      "dhyan\n",
      "20\n",
      "40\n"
     ]
    }
   ],
   "source": [
    "#super function\n",
    "class parent1:\n",
    "    def __init__(self,eid,ename,eage):\n",
    "        self.eid=eid\n",
    "        self.ename=ename\n",
    "        self.eage=eage\n",
    "class parent2(parent1):\n",
    "    def __init__(self,eid,ename,eage,esal):\n",
    "        super().__init__(eid,ename,eage)\n",
    "        self.esal=esal\n",
    "class parent3(parent2):\n",
    "    def __init__(self,eid,ename,eage,esal):\n",
    "        super().__init__(eid,ename,eage,esal)\n",
    "    def printv(self):\n",
    "        print(self.eid)\n",
    "        print(self.ename)\n",
    "        print(self.eage)\n",
    "        print(self.esal)\n",
    "\n",
    "p = parent3(1,\"dhyan\",20,40)\n",
    "p.printv()\n",
    "    "
   ]
  }
 ],
 "metadata": {
  "kernelspec": {
   "display_name": "Python 3 (ipykernel)",
   "language": "python",
   "name": "python3"
  },
  "language_info": {
   "codemirror_mode": {
    "name": "ipython",
    "version": 3
   },
   "file_extension": ".py",
   "mimetype": "text/x-python",
   "name": "python",
   "nbconvert_exporter": "python",
   "pygments_lexer": "ipython3",
   "version": "3.9.12"
  }
 },
 "nbformat": 4,
 "nbformat_minor": 5
}
