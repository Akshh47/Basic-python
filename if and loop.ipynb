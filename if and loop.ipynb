{
 "cells": [
  {
   "cell_type": "code",
   "execution_count": 2,
   "id": "08ef656d",
   "metadata": {},
   "outputs": [
    {
     "name": "stdout",
     "output_type": "stream",
     "text": [
      "enter the number-20\n"
     ]
    }
   ],
   "source": [
    "# if statement(possitive num)\n",
    "\n",
    "n= eval(input(\"enter the number\"))\n",
    "\n",
    "if (n>=0):\n",
    "    print(\"the num is posstive\")"
   ]
  },
  {
   "cell_type": "code",
   "execution_count": 5,
   "id": "cc6ef35c",
   "metadata": {},
   "outputs": [
    {
     "name": "stdout",
     "output_type": "stream",
     "text": [
      "enter the number19\n"
     ]
    }
   ],
   "source": [
    "# if statement(even num)\n",
    "n= eval(input(\"enter the number\"))\n",
    "\n",
    "if (n%2==0):\n",
    "    print(\"the num is even\")"
   ]
  },
  {
   "cell_type": "code",
   "execution_count": 7,
   "id": "65448322",
   "metadata": {},
   "outputs": [
    {
     "name": "stdout",
     "output_type": "stream",
     "text": [
      "enter the year2024\n",
      "the year is leap year\n"
     ]
    }
   ],
   "source": [
    "# if statement(leap year)\n",
    "n= eval(input(\"enter the year\"))\n",
    "\n",
    "if (n%4==0):\n",
    "    print(\"the year is leap year\")"
   ]
  },
  {
   "cell_type": "code",
   "execution_count": 11,
   "id": "b87f3954",
   "metadata": {},
   "outputs": [
    {
     "name": "stdout",
     "output_type": "stream",
     "text": [
      "enter the number 1 4\n",
      "enter the number 2 2\n",
      "4 n1 is maximum\n"
     ]
    }
   ],
   "source": [
    "# if statement(maximum)\n",
    "n1= eval(input(\"enter the number 1 \"))\n",
    "n2= eval(input(\"enter the number 2 \"))\n",
    "if (n1>n2):\n",
    "    print(n1,\"n1 is maximum\")"
   ]
  },
  {
   "cell_type": "code",
   "execution_count": 15,
   "id": "44f9e623",
   "metadata": {},
   "outputs": [
    {
     "name": "stdout",
     "output_type": "stream",
     "text": [
      "enter the number20\n",
      "the num is posstive\n"
     ]
    }
   ],
   "source": [
    "# if else statement(possitive num)\n",
    "\n",
    "n= eval(input(\"enter the number\"))\n",
    "\n",
    "if (n>=0):\n",
    "    print(\"the num is posstive\")\n",
    "else:\n",
    "    print(\"the num is nagetive\")"
   ]
  },
  {
   "cell_type": "code",
   "execution_count": 17,
   "id": "2bcabcce",
   "metadata": {},
   "outputs": [
    {
     "name": "stdout",
     "output_type": "stream",
     "text": [
      "enter the number2\n",
      "the num is even\n"
     ]
    }
   ],
   "source": [
    "# if else statement(even odd num)\n",
    "\n",
    "n= eval(input(\"enter the number\"))\n",
    "\n",
    "if (n%2==0):\n",
    "    print(\"the num is even\")\n",
    "else:\n",
    "    print(\"the num is odd\")"
   ]
  },
  {
   "cell_type": "code",
   "execution_count": 20,
   "id": "cf0d6751",
   "metadata": {},
   "outputs": [
    {
     "name": "stdout",
     "output_type": "stream",
     "text": [
      "enter the year2022\n",
      "the year is not a leap year\n"
     ]
    }
   ],
   "source": [
    "# if else statement(leap year)\n",
    "\n",
    "n= eval(input(\"enter the year\"))\n",
    "\n",
    "if (n%4==0):\n",
    "    print(\"the year is leap year\")\n",
    "else:\n",
    "    print(\"the year is not a leap year\")"
   ]
  },
  {
   "cell_type": "code",
   "execution_count": 21,
   "id": "6107f68f",
   "metadata": {},
   "outputs": [
    {
     "name": "stdout",
     "output_type": "stream",
     "text": [
      "enter the number 1 20\n",
      "enter the number 2 40\n",
      "40 n2 is maximum\n"
     ]
    }
   ],
   "source": [
    "# if else statement(maximum num)\n",
    "\n",
    "n1= eval(input(\"enter the number 1 \"))\n",
    "n2= eval(input(\"enter the number 2 \"))\n",
    "if (n1>n2):\n",
    "    print(n1,\"n1 is maximum\")\n",
    "else:\n",
    "    print(n2,\"n2 is maximum\")"
   ]
  },
  {
   "cell_type": "code",
   "execution_count": 23,
   "id": "2fc46728",
   "metadata": {},
   "outputs": [
    {
     "name": "stdout",
     "output_type": "stream",
     "text": [
      "enter the number 1 60\n",
      "enter the number 2 40\n",
      "enter the number 3 20\n",
      "n3 is minimum 20\n"
     ]
    }
   ],
   "source": [
    "#elif(minimum)\n",
    "\n",
    "n1= eval(input(\"enter the number 1 \"))\n",
    "n2= eval(input(\"enter the number 2 \"))\n",
    "n3= eval(input(\"enter the number 3 \"))\n",
    "if (n1<n2 and n1<n3):\n",
    "    print(\"n1 is minimum\",n1)\n",
    "elif(n2<n3):\n",
    "    print(\"n2 is minimum\",n2)\n",
    "else:\n",
    "    print(\"n3 is minimum\",n3)"
   ]
  },
  {
   "cell_type": "code",
   "execution_count": 2,
   "id": "d6ea9ac1",
   "metadata": {},
   "outputs": [
    {
     "name": "stdout",
     "output_type": "stream",
     "text": [
      "enter marks of sub1 is 100\n",
      "enter marks of sub2 is 99\n",
      "enter marks of sub3 is 95\n",
      "enter marks of sub4 is 94\n",
      "Total is  388\n",
      "the persentage is  97.0\n",
      "the grade is A\n"
     ]
    }
   ],
   "source": [
    "#elif(student marksheet)\n",
    "\n",
    "sub1=eval(input(\"enter marks of sub1 is \"))\n",
    "sub2=eval(input(\"enter marks of sub2 is \"))\n",
    "sub3=eval(input(\"enter marks of sub3 is \"))\n",
    "sub4=eval(input(\"enter marks of sub4 is \"))\n",
    "\n",
    "total= sub1+sub2+sub3+sub4\n",
    "print(\"Total is \",total)\n",
    "\n",
    "pr= total/4\n",
    "if(pr>=33):\n",
    "    print(\"the persentage is \",pr)\n",
    "\n",
    "if(pr>=80):\n",
    "    print(\"the grade is A\")\n",
    "elif(pr>=65):\n",
    "    print(\"the grade is B\")\n",
    "elif(pr>=50):\n",
    "    print(\"the grade is C\")\n",
    "elif(pr>=33):\n",
    "    print(\"the grade is D\")\n",
    "else:\n",
    "    print(\"You are failed\")\n",
    "    \n"
   ]
  },
  {
   "cell_type": "code",
   "execution_count": 30,
   "id": "772bdf45",
   "metadata": {},
   "outputs": [
    {
     "name": "stdout",
     "output_type": "stream",
     "text": [
      "1 2 3 4 5 6 7 8 9 10 "
     ]
    }
   ],
   "source": [
    "#while loop (1 to 10 print)\n",
    "n=1\n",
    "while(n<=10):\n",
    "    print(n, end = \" \")\n",
    "    n+=1"
   ]
  },
  {
   "cell_type": "code",
   "execution_count": 31,
   "id": "235001f4",
   "metadata": {},
   "outputs": [
    {
     "name": "stdout",
     "output_type": "stream",
     "text": [
      "1 3 5 7 9 11 13 15 17 19 "
     ]
    }
   ],
   "source": [
    "#while loop (odd numbers print)\n",
    "n=1\n",
    "while(n<=20):\n",
    "    print(n, end = \" \")\n",
    "    n+=2"
   ]
  },
  {
   "cell_type": "code",
   "execution_count": 32,
   "id": "917ebab0",
   "metadata": {},
   "outputs": [
    {
     "name": "stdout",
     "output_type": "stream",
     "text": [
      "2 4 6 8 10 12 14 16 18 20 "
     ]
    }
   ],
   "source": [
    "#while loop (even num print)\n",
    "n=2\n",
    "while(n<=20):\n",
    "    print(n, end = \" \")\n",
    "    n+=2"
   ]
  },
  {
   "cell_type": "code",
   "execution_count": 36,
   "id": "425a4596",
   "metadata": {},
   "outputs": [
    {
     "name": "stdout",
     "output_type": "stream",
     "text": [
      "20 18 16 14 12 10 8 6 4 2 "
     ]
    }
   ],
   "source": [
    "#while loop (even num in decresing print)\n",
    "n=20\n",
    "while(n>=1):\n",
    "    print(n, end = \" \")\n",
    "    n-=2"
   ]
  },
  {
   "cell_type": "code",
   "execution_count": 39,
   "id": "727699c6",
   "metadata": {},
   "outputs": [
    {
     "name": "stdout",
     "output_type": "stream",
     "text": [
      "10 9 8 7 6 5 4 3 2 1 "
     ]
    }
   ],
   "source": [
    "#while loop (1 to 10 num in decresing print)\n",
    "n=10\n",
    "while(n>=1):\n",
    "    print(n, end = \" \")\n",
    "    n-=1"
   ]
  },
  {
   "cell_type": "code",
   "execution_count": 43,
   "id": "d8b4f2ef",
   "metadata": {},
   "outputs": [
    {
     "name": "stdout",
     "output_type": "stream",
     "text": [
      "19 17 15 13 11 9 7 5 3 1 "
     ]
    }
   ],
   "source": [
    "#while loop (odd num in decresing print)\n",
    "n=19\n",
    "while(n>=1):\n",
    "    print(n, end = \" \")\n",
    "    n-=2"
   ]
  },
  {
   "cell_type": "code",
   "execution_count": 3,
   "id": "fee88193",
   "metadata": {},
   "outputs": [
    {
     "name": "stdout",
     "output_type": "stream",
     "text": [
      "enter the gender (m/f) m\n",
      "Enter Age22\n",
      "you are eligible for marrige\n"
     ]
    }
   ],
   "source": [
    "#marraige eligiblity\n",
    "\n",
    "gender = input(\"enter the gender (m/f) \")\n",
    "age = eval(input(\"Enter Age\"))\n",
    "\n",
    "if(gender==\"m\" and age>21):\n",
    "    print(\"you are eligible for marrige\")\n",
    "elif(gender==\"f\" and age>18):\n",
    "    print(\"you are eligible for marrige\")\n",
    "else:\n",
    "    print(\"you are not eligible for marrige\")"
   ]
  },
  {
   "cell_type": "code",
   "execution_count": null,
   "id": "6bce9bb2",
   "metadata": {},
   "outputs": [],
   "source": [
    "#marraige eligiblity\n",
    "\n",
    "gender = input(\"enter the gender (m/f) \")\n",
    "age = eval(input(\"Enter Age\"))\n",
    "\n",
    "if(gender==\"m\" and age>21):\n",
    "    print(\"you are eligible for marrige\")\n",
    "elif(gender==\"f\" and age>18):\n",
    "    print(\"you are eligible for marrige\")\n",
    "else:\n",
    "    print(\"you are not eligible for marrige\")"
   ]
  }
 ],
 "metadata": {
  "kernelspec": {
   "display_name": "Python 3 (ipykernel)",
   "language": "python",
   "name": "python3"
  },
  "language_info": {
   "codemirror_mode": {
    "name": "ipython",
    "version": 3
   },
   "file_extension": ".py",
   "mimetype": "text/x-python",
   "name": "python",
   "nbconvert_exporter": "python",
   "pygments_lexer": "ipython3",
   "version": "3.9.12"
  }
 },
 "nbformat": 4,
 "nbformat_minor": 5
}
