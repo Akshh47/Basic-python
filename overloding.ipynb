{
 "cells": [
  {
   "cell_type": "code",
   "execution_count": 4,
   "id": "e54f0490",
   "metadata": {},
   "outputs": [
    {
     "name": "stdout",
     "output_type": "stream",
     "text": [
      "area value:  0\n",
      "area value:  9\n",
      "area value:  2\n"
     ]
    }
   ],
   "source": [
    "#function overloding\n",
    "class compute:\n",
    "    def area(self,x = None, y = None):\n",
    "        if x != None and y != None:\n",
    "            return x*y\n",
    "        elif x != None:\n",
    "            return x*x\n",
    "        else:\n",
    "            return 0\n",
    "obj=compute()\n",
    "#zero arg\n",
    "print(\"area value: \",obj.area())\n",
    "#one arg\n",
    "print(\"area value: \",obj.area(3))\n",
    "#two arg\n",
    "print(\"area value: \",obj.area(1,2))"
   ]
  },
  {
   "cell_type": "code",
   "execution_count": 6,
   "id": "57b324bd",
   "metadata": {},
   "outputs": [
    {
     "name": "stdout",
     "output_type": "stream",
     "text": [
      "can't divided by zero\n",
      "this is the final block..\n"
     ]
    }
   ],
   "source": [
    "#Python Try Except\n",
    "\n",
    "a = 10\n",
    "b = 0\n",
    "try:\n",
    "    c = a/b\n",
    "except:\n",
    "    print(\"can't divided by zero\")\n",
    "else:\n",
    "    print(c)\n",
    "finally:\n",
    "    print(\"this is the final block..\")"
   ]
  },
  {
   "cell_type": "code",
   "execution_count": 8,
   "id": "54b0155d",
   "metadata": {},
   "outputs": [
    {
     "name": "stdout",
     "output_type": "stream",
     "text": [
      "enter any int number..0\n",
      "can't divided by zero\n",
      "this is the final block..\n"
     ]
    }
   ],
   "source": [
    "try:\n",
    "    a = eval(input(\"enter any int number..\"))\n",
    "    print(3/a)\n",
    "except:\n",
    "    print(\"can't divided by zero\")\n",
    "finally:\n",
    "    print(\"this is the final block..\")"
   ]
  },
  {
   "cell_type": "code",
   "execution_count": 10,
   "id": "e89d4347",
   "metadata": {},
   "outputs": [
    {
     "name": "stdout",
     "output_type": "stream",
     "text": [
      "division by zero\n"
     ]
    }
   ],
   "source": [
    "# using Exception Class\n",
    "try:\n",
    "    c = 12/0\n",
    "except Exception as e:\n",
    "    print(e)\n",
    "else:\n",
    "    print(c)"
   ]
  }
 ],
 "metadata": {
  "kernelspec": {
   "display_name": "Python 3 (ipykernel)",
   "language": "python",
   "name": "python3"
  },
  "language_info": {
   "codemirror_mode": {
    "name": "ipython",
    "version": 3
   },
   "file_extension": ".py",
   "mimetype": "text/x-python",
   "name": "python",
   "nbconvert_exporter": "python",
   "pygments_lexer": "ipython3",
   "version": "3.9.12"
  }
 },
 "nbformat": 4,
 "nbformat_minor": 5
}
